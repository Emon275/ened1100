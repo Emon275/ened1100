{
 "cells": [
  {
   "cell_type": "code",
   "execution_count": 3,
   "id": "d8d566d7",
   "metadata": {},
   "outputs": [],
   "source": [
    "import sympy as smp\n",
    "from sympy import *"
   ]
  },
  {
   "cell_type": "code",
   "execution_count": 5,
   "id": "23289c55",
   "metadata": {},
   "outputs": [],
   "source": [
    "x = smp"
   ]
  },
  {
   "cell_type": "code",
   "execution_count": 7,
   "id": "240e8216",
   "metadata": {},
   "outputs": [],
   "source": [
    "x,y = smp.symbols('x,y')"
   ]
  },
  {
   "cell_type": "code",
   "execution_count": 26,
   "id": "302117a1",
   "metadata": {},
   "outputs": [
    {
     "data": {
      "text/latex": [
       "$\\displaystyle \\frac{x^{11}}{11}$"
      ],
      "text/plain": [
       "x**11/11"
      ]
     },
     "execution_count": 26,
     "metadata": {},
     "output_type": "execute_result"
    }
   ],
   "source": [
    "smp.integrate(x**10)"
   ]
  }
 ],
 "metadata": {
  "kernelspec": {
   "display_name": "Python 3 (ipykernel)",
   "language": "python",
   "name": "python3"
  },
  "language_info": {
   "codemirror_mode": {
    "name": "ipython",
    "version": 3
   },
   "file_extension": ".py",
   "mimetype": "text/x-python",
   "name": "python",
   "nbconvert_exporter": "python",
   "pygments_lexer": "ipython3",
   "version": "3.11.4"
  }
 },
 "nbformat": 4,
 "nbformat_minor": 5
}
